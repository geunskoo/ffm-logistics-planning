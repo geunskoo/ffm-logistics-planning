{
 "cells": [
  {
   "cell_type": "code",
   "execution_count": 1,
   "id": "7370386d",
   "metadata": {
    "ExecuteTime": {
     "end_time": "2022-06-21T11:18:16.797434Z",
     "start_time": "2022-06-21T11:18:05.590346Z"
    }
   },
   "outputs": [],
   "source": [
    "import pandas as pd\n",
    "import numpy as np\n",
    "def random_product_creator(name) :\n",
    "    df=pd.read_excel(name,header=1)\n",
    "    df=df.rename(columns={'상품명':'상품'})\n",
    "    df=df[[\"상품코드\",\"상품\"]]\n",
    "    df = pd.DataFrame({\n",
    "        '상품코드':df[\"상품코드\"],\n",
    "        '상품':df['상품'],\n",
    "        'ABC': [['A', 'B', 'C'][np.random.randint(0, 3)] for i in range(len(df))], \n",
    "        '단품가로(mm)':  [np.random.randint(1,100) for i in range(len(df))], \n",
    "        '단품세로(mm)': [np.random.randint(1,100) for i in range(len(df))], \n",
    "        '단품높이(mm)':  [np.random.randint(1,100) for i in range(len(df))], \n",
    "        '중량(g)':  [np.random.randint(1, 300) for i in range(len(df))]   \n",
    "    })\n",
    "    df.to_csv('productInformation.csv', index=False)\n",
    "    print('파일이 생성되었습니다')\n"
   ]
  },
  {
   "cell_type": "code",
   "execution_count": 2,
   "id": "a1ff1abc",
   "metadata": {
    "ExecuteTime": {
     "end_time": "2022-06-21T11:24:16.534183Z",
     "start_time": "2022-06-21T11:24:15.948986Z"
    }
   },
   "outputs": [
    {
     "name": "stdout",
     "output_type": "stream",
     "text": [
      "파일이 생성되었습니다\n"
     ]
    }
   ],
   "source": [
    "random_product_creator('202204_출고_주문번호추가.xlsx')"
   ]
  },
  {
   "cell_type": "code",
   "execution_count": 3,
   "id": "2d91f6bb",
   "metadata": {
    "ExecuteTime": {
     "end_time": "2022-06-21T11:24:55.674918Z",
     "start_time": "2022-06-21T11:24:52.323487Z"
    }
   },
   "outputs": [
    {
     "ename": "NameError",
     "evalue": "name 'df3' is not defined",
     "output_type": "error",
     "traceback": [
      "\u001b[1;31m---------------------------------------------------------------------------\u001b[0m",
      "\u001b[1;31mNameError\u001b[0m                                 Traceback (most recent call last)",
      "Input \u001b[1;32mIn [3]\u001b[0m, in \u001b[0;36m<cell line: 1>\u001b[1;34m()\u001b[0m\n\u001b[1;32m----> 1\u001b[0m \u001b[43mdf3\u001b[49m\u001b[38;5;241m.\u001b[39mto_csv(\u001b[38;5;124m'\u001b[39m\u001b[38;5;124mproductInformation.csv\u001b[39m\u001b[38;5;124m'\u001b[39m, index\u001b[38;5;241m=\u001b[39m\u001b[38;5;28;01mFalse\u001b[39;00m)\n",
      "\u001b[1;31mNameError\u001b[0m: name 'df3' is not defined"
     ]
    }
   ],
   "source": []
  },
  {
   "cell_type": "code",
   "execution_count": null,
   "id": "62074e0d",
   "metadata": {},
   "outputs": [],
   "source": []
  }
 ],
 "metadata": {
  "hide_input": false,
  "kernelspec": {
   "display_name": "Python 3 (ipykernel)",
   "language": "python",
   "name": "python3"
  },
  "language_info": {
   "codemirror_mode": {
    "name": "ipython",
    "version": 3
   },
   "file_extension": ".py",
   "mimetype": "text/x-python",
   "name": "python",
   "nbconvert_exporter": "python",
   "pygments_lexer": "ipython3",
   "version": "3.9.12"
  },
  "nbTranslate": {
   "displayLangs": [
    "*"
   ],
   "hotkey": "alt-t",
   "langInMainMenu": true,
   "sourceLang": "en",
   "targetLang": "fr",
   "useGoogleTranslate": true
  },
  "toc": {
   "base_numbering": 1,
   "nav_menu": {},
   "number_sections": true,
   "sideBar": true,
   "skip_h1_title": false,
   "title_cell": "Table of Contents",
   "title_sidebar": "Contents",
   "toc_cell": false,
   "toc_position": {},
   "toc_section_display": true,
   "toc_window_display": false
  },
  "varInspector": {
   "cols": {
    "lenName": 16,
    "lenType": 16,
    "lenVar": 40
   },
   "kernels_config": {
    "python": {
     "delete_cmd_postfix": "",
     "delete_cmd_prefix": "del ",
     "library": "var_list.py",
     "varRefreshCmd": "print(var_dic_list())"
    },
    "r": {
     "delete_cmd_postfix": ") ",
     "delete_cmd_prefix": "rm(",
     "library": "var_list.r",
     "varRefreshCmd": "cat(var_dic_list()) "
    }
   },
   "types_to_exclude": [
    "module",
    "function",
    "builtin_function_or_method",
    "instance",
    "_Feature"
   ],
   "window_display": false
  }
 },
 "nbformat": 4,
 "nbformat_minor": 5
}
