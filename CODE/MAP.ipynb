{
 "cells": [
  {
   "cell_type": "code",
   "execution_count": 1,
   "id": "a6989ef7",
   "metadata": {},
   "outputs": [],
   "source": [
    "import pandas as pd"
   ]
  },
  {
   "cell_type": "code",
   "execution_count": 2,
   "id": "0082f1a9",
   "metadata": {
    "ExecuteTime": {
     "end_time": "2022-06-23T11:38:05.076030Z",
     "start_time": "2022-06-23T11:38:05.060931Z"
    }
   },
   "outputs": [],
   "source": [
    "\n",
    "class SHELF :\n",
    "    def __init__(self) :\n",
    "        self.products = []\n",
    "    \n",
    "    # 선반에 상품을 적재함\n",
    "    def push(self, product) :\n",
    "        self.products.append(product)\n",
    "        \n",
    "    # 선반에 상품을 추출함 (선반에 해당 상품이 2개 이상 있는 경우 가장 먼저 들어온 상품을 추출함)\n",
    "    def pop(self, product) :\n",
    "        for i in range(len(self.products)) :\n",
    "            if self.products[i].code == product.code :\n",
    "                del self.products[i]\n",
    "                return\n",
    "    # 선반에 물건이 몇개 들어있는 지 알려준다.\n",
    "    def stuffed(self) :\n",
    "        return len(self.products)\n",
    "    \n",
    "    #데이터 보여주기용 함수\n",
    "    def show(self) :\n",
    "        if len(self.products) == 0 :\n",
    "            print(\"EMPTY\")\n",
    "        for product in self.products :\n",
    "            print(product)\n",
    "        print()\n",
    "        \n",
    "        \n",
    "    \n",
    "class PRODUCT :\n",
    "    #  현재 단계에서 잘모르는 데이터에 대해서는 defalut 값으로 처리함\n",
    "    def __init__(self, code, name = '알수없음', ABC = '.', x = '.', y = '.', z = '.', g = '.') :\n",
    "        self.code = code\n",
    "        self.name = name\n",
    "        self.ABC = ABC\n",
    "        self.x = x\n",
    "        self.y = y\n",
    "        self.z = z\n",
    "        self.g = g\n",
    "    def __repr__(self) :\n",
    "        return f\"code = {self.code}, name = {self.name}\"\n",
    "        \n",
    "\n",
    "class MAP :\n",
    "    # 워크스테이션 당 맡게 되는 선반의 개수를 일관되게 유지하기 위해서\n",
    "    # 가로, 세로가 n,m 으로 주어진 경우 공장 크기는 n*8, 10 + m*10 으로 생성됨\n",
    "\n",
    "    def __init__(self,R=2,C=5,K=987654321) :\n",
    "        if R < 1 or C < 1: \n",
    "            raise ValueError(\"공장 크기가 적절하지 않습니다.\\n\")\n",
    "        R *= 10\n",
    "        R += 10\n",
    "        C *= 8\n",
    "        self.R = R\n",
    "        self.C = C\n",
    "        self.K = K\n",
    "        self.index = 1\n",
    "        self.map = [[0]*C for _ in range(R)]\n",
    "        self.products = {}\n",
    "        \n",
    "        # 워크스테이션 설정\n",
    "        for c in range(3,C,8) :\n",
    "            self.map[3][c] = -1\n",
    "        for c in range(7,C-4,8) :\n",
    "            self.map[R-4][c] = -1\n",
    "            \n",
    "        # 선반 설정\n",
    "        break_point = False\n",
    "        for c in range(1,self.C-2,4) :\n",
    "            if break_point : break\n",
    "            for r in range(7,self.R-10,10) :\n",
    "                if break_point : break\n",
    "                for dc in range(2) :\n",
    "                    if break_point : break\n",
    "                    for dr in range(6) :\n",
    "                        cr = r + dr\n",
    "                        cc = c + dc \n",
    "                        self.map[cr][cc] = self.index\n",
    "                        self.index += 1\n",
    "                        if self.index > K :\n",
    "                            break_point = True\n",
    "                            break\n",
    "        \n",
    "        # 선반 배열 생성\n",
    "        self.shelves = [SHELF() for _ in range(self.index)]\n",
    "            \n",
    "    # 해당 인덱스를 가진 선반에 물건을 넣는다.\n",
    "    def push(self, product, index = 0, show = False) :\n",
    "        # 인덱스가 변수로 주어져 있지 않다면 비어있는 선반을 찾아서 적재한다.\n",
    "        if index == 0 :\n",
    "            Full = True\n",
    "            for i in range(1,self.index) :\n",
    "                if self.shelves[i].stuffed() < 60 :\n",
    "                    index = i\n",
    "                    Full = False\n",
    "                    break\n",
    "            if Full :\n",
    "                print(\"모든 선반에 물건이 차있기 때문에 적재할 수 없습니다.\\n\")\n",
    "                return\n",
    "            \n",
    "        # 해당 선반에 물건이 60개 이상이라면 적재하지 않는다.\n",
    "        if self.shelves[index].stuffed() >= 60 :\n",
    "            print(\"f{index} 번 선반이 가득 차 적재할 수 없습니다.\")\n",
    "            return\n",
    "\n",
    "        # 해당 선반에 물품을 적재한다. \n",
    "        self.shelves[index].push(product)\n",
    "        # 적재된 상품이 몇번째 선반에 있는지 저장한다.\n",
    "        if product.code in self.products.keys() :\n",
    "            self.products[product.code][index] += 1\n",
    "            self.products[product.code][0] += 1\n",
    "        else :\n",
    "            self.products[product.code] = [0 for _ in range(self.index)]\n",
    "            self.products[product.code][index] += 1\n",
    "            self.products[product.code][0] += 1\n",
    "        \n",
    "        if show :\n",
    "            print(f\"{product.name} 이 {index} 번째 선반에 적재되었습니다.\\n\")\n",
    "            \n",
    "    # 해당 인덱스를 가진 선반에서 물건을 뺀다.\n",
    "    def pop(self, product, index = 0, show = False) :\n",
    "        # 상품이 공장에 존재하지 않는 경우\n",
    "        if product.code not in self.products.keys():\n",
    "            print(f\"{product.name} 이 공장에 존재하지 않습니다.\\n\")\n",
    "            return\n",
    "        \n",
    "        # 상품이 공장에 존재하나 인덱스가 주어지지 않은 경우 자동으로 인덱스를 구함\n",
    "        if index == 0 :\n",
    "            for i,cnt in enumerate(self.products[product.code]) :\n",
    "                if cnt > 0 :\n",
    "                    index = i\n",
    "                    break\n",
    "        \n",
    "        # 상품이 공장에 존재하고 인덱스가 주어진 경우인데도 해당 선반에 상품이 존재하지 않은 경우\n",
    "        if self.products[product.code][index] == 0 :\n",
    "            print(f\"{product.name} 이 해당 선반에 존재하지 않습니다.\")\n",
    "            return\n",
    "        \n",
    "        # 상품을 추출함\n",
    "        if show :\n",
    "            print(f\"{product.name} 이 {index} 번째 선반에 추출되었습니다.\\n\")\n",
    "        self.products[product.code][index] -= 1\n",
    "        self.products[product.code][0] -= 1\n",
    "        if self.products[product.code][0] == 0 :\n",
    "            del self.products[product.code]\n",
    "        self.shelves[index].pop(product)\n",
    "        \n",
    "    # 인풋 : 상품 데이터가 저장된 csv 파일의 경로와 이름\n",
    "    # 상품 데이터를 불러와 맵에 적재해 줌\n",
    "    def push_orders(self, name, head = 0, show = False) :\n",
    "        order_data = pd.read_csv(name)\n",
    "        if head > 0 :\n",
    "            order_data = order_data[:head]\n",
    "        columns = ['상품코드', '상품', 'ABC', '단품가로(mm)', '단품세로(mm)', '단품높이(mm)','중량(g)']\n",
    "        for i in range(len(order_data)) :\n",
    "            product = PRODUCT(order_data.loc[i][columns[0]], order_data.loc[i][columns[1]], order_data.loc[i][columns[2]], \n",
    "                            order_data.loc[i][columns[3]], order_data.loc[i][columns[4]], order_data.loc[i][columns[5]], \n",
    "                            order_data.loc[i][columns[6]])\n",
    "            self.push(product, show = show)\n",
    "    \n",
    "    # 인풋 : 상품 데이터가 저장된 csv 파일의 경로와 이름\n",
    "    # 상품 데이터를 풀러와 맵에서 추출해 줌\n",
    "    def pop_orders(self, name, head = 0, show = False) :\n",
    "        order_data = pd.read_csv(name)\n",
    "        if head > 0 :\n",
    "            order_data = order_data[:head]\n",
    "        columns = ['상품코드', '상품', 'ABC', '단품가로(mm)', '단품세로(mm)', '단품높이(mm)','중량(g)']\n",
    "        for i in range(len(order_data)) :\n",
    "            product = PRODUCT(order_data.loc[i][columns[0]], order_data.loc[i][columns[1]], order_data.loc[i][columns[2]], \n",
    "                            order_data.loc[i][columns[3]], order_data.loc[i][columns[4]], order_data.loc[i][columns[5]], \n",
    "                            order_data.loc[i][columns[6]])\n",
    "            self.pop(product, show = show)\n",
    "            \n",
    "    # 상품이 몇번 선반에 들어있는지 알려준다.\n",
    "    def show_product(self, product) :\n",
    "        # 상품이 공장에 적재되어있지 않는 경우\n",
    "        if product.code not in self.products.keys():\n",
    "            print(f\"{product.name} 이 공장에 존재하지 않습니다.\\n\")\n",
    "            return\n",
    "        \n",
    "        print(product, f\", 총 {self.products[product.code][0]} 개\")\n",
    "        for index,cnt in enumerate(self.products[product.code][1:]) :\n",
    "            if cnt == 0 :\n",
    "                continue\n",
    "            print(f\"{index+1}번 선반 - {cnt} 개\")\n",
    "        print()\n",
    "    \n",
    "             \n",
    "    # 해당 인덱스를 가진 선반이 어떤 물건을 가지고 있는지 보여준다.\n",
    "    def show_shelf(self, index) :\n",
    "        print(f\"{index} 번째 선반에 들어있는 상품 : \")\n",
    "        self.shelves[index].show()\n",
    "\n",
    "    \n",
    "    # MAP의 형태를 보여준다. W = workstation, @ = 선반\n",
    "    # index = True 일 때는 선반의 인덱스를 보여준다. 1,2,3... = 선반의 index, -1 = workstation\n",
    "    def show(self, index = False) :\n",
    "        print(f\"R : {self.R} C : {self.C}\\n\")\n",
    "        \n",
    "        if index :\n",
    "            for r in range(self.R) :\n",
    "                for c in range(self.C) :\n",
    "                    print(str(self.map[r][c]).ljust(len(str(self.index))), end = ' ')\n",
    "                print()\n",
    "            return\n",
    "        for r in range(self.R) :\n",
    "            for c in range(self.C) :\n",
    "                if self.map[r][c] == -1 :\n",
    "                    print('W', end = ' ')\n",
    "                elif self.map[r][c] > 0 :\n",
    "                    print(\"@\", end = ' ')\n",
    "                else : print('-', end = ' ')\n",
    "            print(\"\\n\")\n"
   ]
  },
  {
   "cell_type": "markdown",
   "id": "8af5ca2e",
   "metadata": {},
   "source": [
    "# 사용예시"
   ]
  },
  {
   "cell_type": "markdown",
   "id": "17edab0a",
   "metadata": {},
   "source": [
    "## 공장 생성"
   ]
  },
  {
   "cell_type": "code",
   "execution_count": 3,
   "id": "97d214b5",
   "metadata": {
    "ExecuteTime": {
     "end_time": "2022-06-23T11:38:05.080132Z",
     "start_time": "2022-06-23T11:38:05.077070Z"
    },
    "scrolled": false
   },
   "outputs": [],
   "source": [
    "# 맵 생성\n",
    "# 인풋 : 공장의 행 개수, 열 개수, 선반의 개수(default = 넣을 수 있는 최대 선반 개수)\n",
    "# 공장 크기는 10+열 개수*10 X 행 개수 * 8 로 생성된다.\n",
    "\n",
    "M = MAP(1,1)\n"
   ]
  },
  {
   "cell_type": "code",
   "execution_count": 4,
   "id": "97afc49b",
   "metadata": {},
   "outputs": [
    {
     "name": "stdout",
     "output_type": "stream",
     "text": [
      "R : 20 C : 8\n",
      "\n",
      "- - - - - - - - \n",
      "\n",
      "- - - - - - - - \n",
      "\n",
      "- - - - - - - - \n",
      "\n",
      "- - - W - - - - \n",
      "\n",
      "- - - - - - - - \n",
      "\n",
      "- - - - - - - - \n",
      "\n",
      "- - - - - - - - \n",
      "\n",
      "- @ @ - - @ @ - \n",
      "\n",
      "- @ @ - - @ @ - \n",
      "\n",
      "- @ @ - - @ @ - \n",
      "\n",
      "- @ @ - - @ @ - \n",
      "\n",
      "- @ @ - - @ @ - \n",
      "\n",
      "- @ @ - - @ @ - \n",
      "\n",
      "- - - - - - - - \n",
      "\n",
      "- - - - - - - - \n",
      "\n",
      "- - - - - - - - \n",
      "\n",
      "- - - - - - - - \n",
      "\n",
      "- - - - - - - - \n",
      "\n",
      "- - - - - - - - \n",
      "\n",
      "- - - - - - - - \n",
      "\n"
     ]
    }
   ],
   "source": [
    "\n",
    "# 공장의 형태 확인\n",
    "# @ = 선반, W = 워크스테이션\n",
    "M.show()"
   ]
  },
  {
   "cell_type": "code",
   "execution_count": 5,
   "id": "a175d1d8",
   "metadata": {},
   "outputs": [
    {
     "name": "stdout",
     "output_type": "stream",
     "text": [
      "R : 20 C : 8\n",
      "\n",
      "0  0  0  0  0  0  0  0  \n",
      "0  0  0  0  0  0  0  0  \n",
      "0  0  0  0  0  0  0  0  \n",
      "0  0  0  -1 0  0  0  0  \n",
      "0  0  0  0  0  0  0  0  \n",
      "0  0  0  0  0  0  0  0  \n",
      "0  0  0  0  0  0  0  0  \n",
      "0  1  7  0  0  13 19 0  \n",
      "0  2  8  0  0  14 20 0  \n",
      "0  3  9  0  0  15 21 0  \n",
      "0  4  10 0  0  16 22 0  \n",
      "0  5  11 0  0  17 23 0  \n",
      "0  6  12 0  0  18 24 0  \n",
      "0  0  0  0  0  0  0  0  \n",
      "0  0  0  0  0  0  0  0  \n",
      "0  0  0  0  0  0  0  0  \n",
      "0  0  0  0  0  0  0  0  \n",
      "0  0  0  0  0  0  0  0  \n",
      "0  0  0  0  0  0  0  0  \n",
      "0  0  0  0  0  0  0  0  \n"
     ]
    }
   ],
   "source": [
    "\n",
    "# 1이상의 자연수 = 선반 인덱스, -1 = 워크스테이션\n",
    "M.show(index = True)"
   ]
  },
  {
   "cell_type": "markdown",
   "id": "1ba26213",
   "metadata": {},
   "source": [
    "## 상품 적재\n",
    "\n",
    "- 상품 간 구별 기준은 상품 코드 하나뿐임.\n",
    "- 이는 2개의 상품이 상품코드만 다르고 다른 특성이 모두 일치하여도 다른 상품으로 구분한다는 뜻이다.\n",
    "- 반대로 상품코드만 정확히 알고 있다면 상품을 적재, 추출할 수 있다."
   ]
  },
  {
   "cell_type": "code",
   "execution_count": 6,
   "id": "67951eac",
   "metadata": {},
   "outputs": [
    {
     "name": "stdout",
     "output_type": "stream",
     "text": [
      "알수없음 이 10 번째 선반에 적재되었습니다.\n",
      "\n",
      "치약 이 1 번째 선반에 적재되었습니다.\n",
      "\n"
     ]
    }
   ],
   "source": [
    "# 상품을 적재한다.\n",
    "# 인풋 : 상품 클래스(필요 변수 : 상품 코드), 적재할 선반 인덱스(default = 비어있는 선반의 인덱스를 자동으로 찾는다.)\n",
    "# show = True 라면 적재되었다는 확인 메세지를 출력해줍니다.\n",
    "M.push(PRODUCT(\"001\"))\n",
    "M.push(PRODUCT(\"001\"), index = 10, show = True)\n",
    "M.push(PRODUCT(\"001\", \"치약\"), show = True)\n"
   ]
  },
  {
   "cell_type": "code",
   "execution_count": 7,
   "id": "f2a9c73d",
   "metadata": {},
   "outputs": [
    {
     "name": "stdout",
     "output_type": "stream",
     "text": [
      "히말라야 핑크솔트 이 1 번째 선반에 적재되었습니다.\n",
      "\n",
      "샤프란 향신료 20g 이 1 번째 선반에 적재되었습니다.\n",
      "\n",
      "Elegance Plus Shaving Gel 500ml 이 1 번째 선반에 적재되었습니다.\n",
      "\n",
      "원두커피: 3. 라바짜 그란에스프레소 이 1 번째 선반에 적재되었습니다.\n",
      "\n",
      "악역의 엔딩은 죽음뿐 마스킹 테이프 vol.2 이 1 번째 선반에 적재되었습니다.\n",
      "\n",
      "PET BED-Grey 385 이 1 번째 선반에 적재되었습니다.\n",
      "\n",
      "(1매) 프리스틴 KF94 마스크(새부리형/화이트) 이 1 번째 선반에 적재되었습니다.\n",
      "\n",
      "벨 숄더_VANILLA CREAM 이 1 번째 선반에 적재되었습니다.\n",
      "\n",
      "모르간 버킷 BLACK XXX 이 1 번째 선반에 적재되었습니다.\n",
      "\n",
      "모르간 버킷 BLACK XXX 이 1 번째 선반에 적재되었습니다.\n",
      "\n"
     ]
    }
   ],
   "source": [
    "# 상품 데이터(csv)를 받아서 적재한다\n",
    "# 인풋 : 상품 데이터(csv) 파일의 경로와 이름\n",
    "M.push_orders('order_data.csv', head = 10, show = True)\n"
   ]
  },
  {
   "cell_type": "markdown",
   "id": "8653814c",
   "metadata": {},
   "source": [
    "## 공장에 적재된 상품 데이터 확인"
   ]
  },
  {
   "cell_type": "code",
   "execution_count": 8,
   "id": "51c42f27",
   "metadata": {},
   "outputs": [
    {
     "name": "stdout",
     "output_type": "stream",
     "text": [
      "1 번째 선반에 들어있는 상품 : \n",
      "code = 001, name = 알수없음\n",
      "code = 001, name = 치약\n",
      "code = 802980111116, name = 히말라야 핑크솔트\n",
      "code = 6261108117326, name = 샤프란 향신료 20g\n",
      "code = 5285001951833, name = Elegance Plus Shaving Gel 500ml\n",
      "code = 8000070021341, name = 원두커피: 3. 라바짜 그란에스프레소\n",
      "code = VD-MT-002, name = 악역의 엔딩은 죽음뿐 마스킹 테이프 vol.2\n",
      "code = 0081010, name = PET BED-Grey 385\n",
      "code = 8809764510020, name = (1매) 프리스틴 KF94 마스크(새부리형/화이트)\n",
      "code = O2SBSD39130XXX, name = 벨 숄더_VANILLA CREAM\n",
      "code = O0SBBC47009XXX, name = 모르간 버킷 BLACK XXX\n",
      "code = O0SBBC47009XXX, name = 모르간 버킷 BLACK XXX\n",
      "\n",
      "10 번째 선반에 들어있는 상품 : \n",
      "code = 001, name = 알수없음\n",
      "\n"
     ]
    }
   ],
   "source": [
    "\n",
    "# 선반에 적재된 상품 확인 - 인풋 : 선반의 인덱스\n",
    "# 해당 선반에 적재되어있는 상품 정보를 알려줌\n",
    "M.show_shelf(1)\n",
    "M.show_shelf(10)\n"
   ]
  },
  {
   "cell_type": "code",
   "execution_count": 9,
   "id": "e2b5c095",
   "metadata": {},
   "outputs": [
    {
     "name": "stdout",
     "output_type": "stream",
     "text": [
      "code = 001, name = 치약 , 총 3 개\n",
      "0번 선반 - 2 개\n",
      "9번 선반 - 1 개\n",
      "\n"
     ]
    }
   ],
   "source": [
    "# 상품이 적재된 선반 확인 - 인풋 : 상품 클래스(필요 변수 : 상품 코드)\n",
    "M.show_product(PRODUCT(\"001\", \"치약\"))"
   ]
  },
  {
   "cell_type": "markdown",
   "id": "a63306eb",
   "metadata": {},
   "source": [
    "## 상품 추출"
   ]
  },
  {
   "cell_type": "code",
   "execution_count": 10,
   "id": "909c8685",
   "metadata": {},
   "outputs": [
    {
     "name": "stdout",
     "output_type": "stream",
     "text": [
      "치약 이 0 번째 선반에 추출되었습니다.\n",
      "\n",
      "알수없음 이 0 번째 선반에 추출되었습니다.\n",
      "\n",
      "알수없음 이 10 번째 선반에 추출되었습니다.\n",
      "\n"
     ]
    }
   ],
   "source": [
    "\n",
    "# 상품 추출 - 인풋 : 상품 클래스(필요 변수 : 상품 코드),\n",
    "#   추출할 선반의 인덱스(default : 상품이 적재된 선반의 index 를 자동으로 찾는다.)\n",
    "M.pop(PRODUCT(\"001\", \"치약\"), show = True)\n",
    "M.pop(PRODUCT('001'), show = True)\n",
    "M.pop(PRODUCT('001'), index = 10, show = True)\n"
   ]
  },
  {
   "cell_type": "code",
   "execution_count": 11,
   "id": "b111945c",
   "metadata": {},
   "outputs": [
    {
     "name": "stdout",
     "output_type": "stream",
     "text": [
      "히말라야 핑크솔트 이 0 번째 선반에 추출되었습니다.\n",
      "\n",
      "샤프란 향신료 20g 이 0 번째 선반에 추출되었습니다.\n",
      "\n",
      "Elegance Plus Shaving Gel 500ml 이 0 번째 선반에 추출되었습니다.\n",
      "\n",
      "원두커피: 3. 라바짜 그란에스프레소 이 0 번째 선반에 추출되었습니다.\n",
      "\n",
      "악역의 엔딩은 죽음뿐 마스킹 테이프 vol.2 이 0 번째 선반에 추출되었습니다.\n",
      "\n",
      "PET BED-Grey 385 이 0 번째 선반에 추출되었습니다.\n",
      "\n",
      "(1매) 프리스틴 KF94 마스크(새부리형/화이트) 이 0 번째 선반에 추출되었습니다.\n",
      "\n",
      "벨 숄더_VANILLA CREAM 이 0 번째 선반에 추출되었습니다.\n",
      "\n",
      "모르간 버킷 BLACK XXX 이 0 번째 선반에 추출되었습니다.\n",
      "\n",
      "모르간 버킷 BLACK XXX 이 공장에 존재하지 않습니다.\n",
      "\n"
     ]
    }
   ],
   "source": [
    "# 상품 데이터(csv) 파일을 받아서 추출한다.\n",
    "# 인풋 : 상품 데이터(csv) 파일의 경로와 이름\n",
    "M.pop_orders('order_data.csv', head = 10, show = True)"
   ]
  },
  {
   "cell_type": "code",
   "execution_count": 12,
   "id": "b5185740",
   "metadata": {},
   "outputs": [
    {
     "name": "stdout",
     "output_type": "stream",
     "text": [
      "1 번째 선반에 들어있는 상품 : \n",
      "code = 001, name = 알수없음\n",
      "code = 001, name = 치약\n",
      "code = 802980111116, name = 히말라야 핑크솔트\n",
      "code = 6261108117326, name = 샤프란 향신료 20g\n",
      "code = 5285001951833, name = Elegance Plus Shaving Gel 500ml\n",
      "code = 8000070021341, name = 원두커피: 3. 라바짜 그란에스프레소\n",
      "code = VD-MT-002, name = 악역의 엔딩은 죽음뿐 마스킹 테이프 vol.2\n",
      "code = 0081010, name = PET BED-Grey 385\n",
      "code = 8809764510020, name = (1매) 프리스틴 KF94 마스크(새부리형/화이트)\n",
      "code = O2SBSD39130XXX, name = 벨 숄더_VANILLA CREAM\n",
      "code = O0SBBC47009XXX, name = 모르간 버킷 BLACK XXX\n",
      "code = O0SBBC47009XXX, name = 모르간 버킷 BLACK XXX\n",
      "\n",
      "10 번째 선반에 들어있는 상품 : \n",
      "EMPTY\n",
      "\n",
      "code = 001, name = 치약 , 총 -2 개\n",
      "0번 선반 - 2 개\n",
      "\n"
     ]
    }
   ],
   "source": [
    "# 추출되었는 확인\n",
    "M.show_shelf(1)\n",
    "M.show_shelf(10)\n",
    "M.show_product(PRODUCT(\"001\", \"치약\"))"
   ]
  }
 ],
 "metadata": {
  "kernelspec": {
   "display_name": "Python 3 (ipykernel)",
   "language": "python",
   "name": "python3"
  },
  "language_info": {
   "codemirror_mode": {
    "name": "ipython",
    "version": 3
   },
   "file_extension": ".py",
   "mimetype": "text/x-python",
   "name": "python",
   "nbconvert_exporter": "python",
   "pygments_lexer": "ipython3",
   "version": "3.9.12"
  }
 },
 "nbformat": 4,
 "nbformat_minor": 5
}
