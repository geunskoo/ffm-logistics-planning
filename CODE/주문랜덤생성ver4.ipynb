{
 "cells": [
  {
   "cell_type": "code",
   "execution_count": 38,
   "metadata": {},
   "outputs": [],
   "source": [
    "import numpy as np\n",
    "import matplotlib.pyplot as plt\n",
    "import pandas as pd\n",
    "import random"
   ]
  },
  {
   "cell_type": "code",
   "execution_count": 46,
   "metadata": {},
   "outputs": [],
   "source": [
    "columns=['플랜트', '플랜트명', '차수', '주문일자', '매장코드', '매장', '상품코드', '상품명', '운송장번호',\n",
    "       '운송장출력여부', '주문취소여부', '주문번호', '받는이', '우편번호', '주소1', '주소2', '전화번호1',\n",
    "       '전화번호2', '배송기재사항', '판매가', '합포여부', '예정수량', '검수수량', '출력일시', '출력자', '몰구분',\n",
    "       'DAS여부', 'DAS차수', 'DAS지시번호', 'BOXNO', 'CELLNO', '추가박스여부']\n",
    "\n",
    "# 랜덤 이름 생성\n",
    "first_name_samples = \"김이박최정강조윤장임안변손권주심신\"\n",
    "middle_name_samples = \"민서예지도하주윤채현지형강호준수\"\n",
    "last_name_samples = \"준윤우원호후서연아은진엽수\"\n",
    "\n",
    "def random_name():\n",
    "    result = \"\"\n",
    "    result += random.choice(first_name_samples)\n",
    "    result += random.choice(middle_name_samples)\n",
    "    result += random.choice(last_name_samples)\n",
    "    return result + '|'\n",
    "\n",
    "f = open('Sample/받는이', 'w', encoding = 'utf-8')\n",
    "for _ in range(30000):\n",
    "    f.write(random_name())\n",
    "f.close()\n",
    "\n",
    "Sample_set = {}\n",
    "\n",
    "for col in columns :\n",
    "    try :\n",
    "        f = open('Sample/'+col,'r',encoding = 'utf-8')\n",
    "    except :\n",
    "        f = open('Sample/'+col,'r',encoding = 'cp949')\n",
    "    data = f.read()[:-1].split('|')\n",
    "    Sample_set[col] = data\n",
    "\n",
    "def one_column_random(name) :\n",
    "    if name == '주문취소여부' or name == '추가박스여부' :\n",
    "        return random.choices(['Y', 'N'], weights = (95, 5))[0]\n",
    "    elif name == '운송장출력여부':\n",
    "        return random.choices(['Y', 'N'], weights = (5, 95))[0]\n",
    "    else:\n",
    "        # 평균이 20인 포아송분포에서 각 col의 자료 개수만큼 가중치 생성\n",
    "        rand_pois = np.random.poisson(lam=20, size=len(Sample_set[name]))\n",
    "        # 각 col의 가중치확인\n",
    "        # print(rand_pois)\n",
    "        return random.choices(Sample_set[name], weights = rand_pois)[0]\n",
    "\n",
    "def radom_order_creator(N, name = 'Random_Sample') :\n",
    "    result = pd.DataFrame([], columns=columns)\n",
    "    for _ in range(N) :\n",
    "        new_random_data = []\n",
    "        for col in columns :\n",
    "            new_random_data.append(one_column_random(col))\n",
    "        result.loc[len(result)] = new_random_data\n",
    "    result.to_excel(name+'.xlsx', encoding='cp949')\n",
    "    print(\"파일이 생성되었습니다.\")"
   ]
  },
  {
   "cell_type": "code",
   "execution_count": 47,
   "metadata": {},
   "outputs": [
    {
     "name": "stdout",
     "output_type": "stream",
     "text": [
      "파일이 생성되었습니다.\n"
     ]
    }
   ],
   "source": [
    "radom_order_creator(1000)"
   ]
  },
  {
   "cell_type": "code",
   "execution_count": null,
   "metadata": {},
   "outputs": [],
   "source": []
  }
 ],
 "metadata": {
  "kernelspec": {
   "display_name": "Python 3",
   "language": "python",
   "name": "python3"
  },
  "language_info": {
   "codemirror_mode": {
    "name": "ipython",
    "version": 3
   },
   "file_extension": ".py",
   "mimetype": "text/x-python",
   "name": "python",
   "nbconvert_exporter": "python",
   "pygments_lexer": "ipython3",
   "version": "3.6.5"
  }
 },
 "nbformat": 4,
 "nbformat_minor": 2
}
