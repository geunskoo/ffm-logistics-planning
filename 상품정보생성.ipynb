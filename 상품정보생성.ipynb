{
 "cells": [
  {
   "cell_type": "code",
   "execution_count": 100,
   "id": "7370386d",
   "metadata": {
    "ExecuteTime": {
     "end_time": "2022-06-19T14:56:40.992627Z",
     "start_time": "2022-06-19T14:56:29.718597Z"
    }
   },
   "outputs": [
    {
     "data": {
      "text/html": [
       "<div>\n",
       "<style scoped>\n",
       "    .dataframe tbody tr th:only-of-type {\n",
       "        vertical-align: middle;\n",
       "    }\n",
       "\n",
       "    .dataframe tbody tr th {\n",
       "        vertical-align: top;\n",
       "    }\n",
       "\n",
       "    .dataframe thead th {\n",
       "        text-align: right;\n",
       "    }\n",
       "</style>\n",
       "<table border=\"1\" class=\"dataframe\">\n",
       "  <thead>\n",
       "    <tr style=\"text-align: right;\">\n",
       "      <th></th>\n",
       "      <th>상품코드</th>\n",
       "      <th>상품</th>\n",
       "      <th>갯수</th>\n",
       "    </tr>\n",
       "  </thead>\n",
       "  <tbody>\n",
       "    <tr>\n",
       "      <th>0</th>\n",
       "      <td>802980111116</td>\n",
       "      <td>히말라야 핑크솔트</td>\n",
       "      <td>36</td>\n",
       "    </tr>\n",
       "    <tr>\n",
       "      <th>36</th>\n",
       "      <td>6261108117326</td>\n",
       "      <td>샤프란 향신료 20g</td>\n",
       "      <td>9</td>\n",
       "    </tr>\n",
       "    <tr>\n",
       "      <th>45</th>\n",
       "      <td>5285001951833</td>\n",
       "      <td>Elegance Plus Shaving Gel 500ml</td>\n",
       "      <td>45</td>\n",
       "    </tr>\n",
       "    <tr>\n",
       "      <th>90</th>\n",
       "      <td>8000070021341</td>\n",
       "      <td>원두커피: 3. 라바짜 그란에스프레소</td>\n",
       "      <td>7</td>\n",
       "    </tr>\n",
       "    <tr>\n",
       "      <th>97</th>\n",
       "      <td>VD-MT-002</td>\n",
       "      <td>악역의 엔딩은 죽음뿐 마스킹 테이프 vol.2</td>\n",
       "      <td>30</td>\n",
       "    </tr>\n",
       "    <tr>\n",
       "      <th>...</th>\n",
       "      <td>...</td>\n",
       "      <td>...</td>\n",
       "      <td>...</td>\n",
       "    </tr>\n",
       "    <tr>\n",
       "      <th>40269</th>\n",
       "      <td>O0FPCC28004XXX</td>\n",
       "      <td>데카 아코디언 \\n카드케이스CREAMXXX</td>\n",
       "      <td>1</td>\n",
       "    </tr>\n",
       "    <tr>\n",
       "      <th>40270</th>\n",
       "      <td>RM204H003MT</td>\n",
       "      <td>마블 헤어클립 3종 세트 MULTI_F</td>\n",
       "      <td>1</td>\n",
       "    </tr>\n",
       "    <tr>\n",
       "      <th>40271</th>\n",
       "      <td>RM211H003MT</td>\n",
       "      <td>마리 헤어클립 - 멀티컬러</td>\n",
       "      <td>1</td>\n",
       "    </tr>\n",
       "    <tr>\n",
       "      <th>40272</th>\n",
       "      <td>RM211H002BE</td>\n",
       "      <td>마리 헤어클립 - 베이지색</td>\n",
       "      <td>1</td>\n",
       "    </tr>\n",
       "    <tr>\n",
       "      <th>40273</th>\n",
       "      <td>RM204J014GN</td>\n",
       "      <td>레이 앤 필 스터드 세트 GREEN_F</td>\n",
       "      <td>1</td>\n",
       "    </tr>\n",
       "  </tbody>\n",
       "</table>\n",
       "<p>1586 rows × 3 columns</p>\n",
       "</div>"
      ],
      "text/plain": [
       "                 상품코드                               상품  갯수\n",
       "0        802980111116                        히말라야 핑크솔트  36\n",
       "36      6261108117326                      샤프란 향신료 20g   9\n",
       "45      5285001951833  Elegance Plus Shaving Gel 500ml  45\n",
       "90      8000070021341             원두커피: 3. 라바짜 그란에스프레소   7\n",
       "97          VD-MT-002        악역의 엔딩은 죽음뿐 마스킹 테이프 vol.2  30\n",
       "...               ...                              ...  ..\n",
       "40269  O0FPCC28004XXX          데카 아코디언 \\n카드케이스CREAMXXX   1\n",
       "40270     RM204H003MT            마블 헤어클립 3종 세트 MULTI_F   1\n",
       "40271     RM211H003MT                   마리 헤어클립 - 멀티컬러   1\n",
       "40272     RM211H002BE                   마리 헤어클립 - 베이지색   1\n",
       "40273     RM204J014GN            레이 앤 필 스터드 세트 GREEN_F   1\n",
       "\n",
       "[1586 rows x 3 columns]"
      ]
     },
     "execution_count": 100,
     "metadata": {},
     "output_type": "execute_result"
    }
   ],
   "source": [
    "import pandas as pd\n",
    "\n",
    "df=pd.read_excel('/Users/yoon/Desktop/agv/202204_출고_주문번호추가.xlsx',header=1)\n",
    "df=df.rename(columns={'상품명':'상품'})\n",
    "df1=df[[\"상품코드\",\"상품\"]]\n",
    "\n",
    "df2=pd.DataFrame({\"상품\":df1[\"상품\"].value_counts().index,\"갯수\":df1[\"상품\"].value_counts().values})\n",
    "\n",
    "df3=pd.merge(df1,df2,on=\"상품\")\n",
    "\n",
    "df3.drop_duplicates()\n"
   ]
  },
  {
   "cell_type": "code",
   "execution_count": null,
   "id": "a1ff1abc",
   "metadata": {},
   "outputs": [],
   "source": []
  }
 ],
 "metadata": {
  "hide_input": false,
  "kernelspec": {
   "display_name": "Python 3",
   "language": "python",
   "name": "python3"
  },
  "language_info": {
   "codemirror_mode": {
    "name": "ipython",
    "version": 3
   },
   "file_extension": ".py",
   "mimetype": "text/x-python",
   "name": "python",
   "nbconvert_exporter": "python",
   "pygments_lexer": "ipython3",
   "version": "3.8.8"
  },
  "nbTranslate": {
   "displayLangs": [
    "*"
   ],
   "hotkey": "alt-t",
   "langInMainMenu": true,
   "sourceLang": "en",
   "targetLang": "fr",
   "useGoogleTranslate": true
  },
  "toc": {
   "base_numbering": 1,
   "nav_menu": {},
   "number_sections": true,
   "sideBar": true,
   "skip_h1_title": false,
   "title_cell": "Table of Contents",
   "title_sidebar": "Contents",
   "toc_cell": false,
   "toc_position": {},
   "toc_section_display": true,
   "toc_window_display": false
  },
  "varInspector": {
   "cols": {
    "lenName": 16,
    "lenType": 16,
    "lenVar": 40
   },
   "kernels_config": {
    "python": {
     "delete_cmd_postfix": "",
     "delete_cmd_prefix": "del ",
     "library": "var_list.py",
     "varRefreshCmd": "print(var_dic_list())"
    },
    "r": {
     "delete_cmd_postfix": ") ",
     "delete_cmd_prefix": "rm(",
     "library": "var_list.r",
     "varRefreshCmd": "cat(var_dic_list()) "
    }
   },
   "types_to_exclude": [
    "module",
    "function",
    "builtin_function_or_method",
    "instance",
    "_Feature"
   ],
   "window_display": false
  }
 },
 "nbformat": 4,
 "nbformat_minor": 5
}
