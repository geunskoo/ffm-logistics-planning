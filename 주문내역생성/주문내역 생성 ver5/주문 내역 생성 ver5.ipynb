{
 "cells": [
  {
   "cell_type": "code",
   "execution_count": 84,
   "metadata": {},
   "outputs": [],
   "source": [
    "import pandas as pd\n",
    "import numpy as np\n",
    "import string\n",
    "import openpyxl\n",
    "import random\n",
    "import matplotlib.pyplot as plt"
   ]
  },
  {
   "cell_type": "markdown",
   "metadata": {},
   "source": [
    "# 주문 내역 생성"
   ]
  },
  {
   "cell_type": "markdown",
   "metadata": {},
   "source": [
    "* 칼럼별 independent하게 random choice 하는 모델"
   ]
  },
  {
   "cell_type": "markdown",
   "metadata": {},
   "source": [
    "* unique 특성 --> dictionary\n",
    "* 특성 랜텀 선택함수\n",
    "* 주문 내역 생성함수"
   ]
  },
  {
   "cell_type": "code",
   "execution_count": 85,
   "metadata": {},
   "outputs": [],
   "source": [
    "columns=['플랜트', '플랜트명', '차수', '주문일자', '매장코드', '매장', '상품코드', '상품명', '운송장번호',\n",
    "       '운송장출력여부', '주문취소여부', '주문번호', '받는이', '우편번호', '주소1', '주소2', '전화번호1',\n",
    "       '전화번호2', '배송기재사항', '판매가', '합포여부', '예정수량', '검수수량', '출력일시', '출력자', '몰구분',\n",
    "       'DAS여부', 'DAS차수', 'DAS지시번호', 'BOXNO', 'CELLNO', '추가박스여부']"
   ]
  },
  {
   "cell_type": "code",
   "execution_count": 86,
   "metadata": {},
   "outputs": [
    {
     "name": "stdout",
     "output_type": "stream",
     "text": [
      "파일이 생성되었습니다.\n"
     ]
    }
   ],
   "source": [
    "#샘플데이터 받아서 딕셔너리 자료형으로 변환 특성 종류 : 특성 value\n",
    "Sample_set = {}\n",
    "for col in columns:\n",
    "    f = open('C:/geunskoo-github-blog/ffm-logistics-planning/CODE/Sample/' + col,'r',encoding ='utf-8')     #안호성이 만든 CODE/Sample/         각자의 저장 주소 참고하세요!\n",
    "    data = f.read()[:-1].split('|')\n",
    "    Sample_set[col] = data\n",
    "\n",
    "#input - 특성 종류\n",
    "#output - 랜덤 특성 value\n",
    "def one_column_random(name):\n",
    "    return random.choice(Sample_set[name])\n",
    "\n",
    "#input - 주문 수, \"excel파일 이름\"\n",
    "#output - excel 파일 생성\n",
    "def random_order_creater(n, name = 'Random_Sample'):\n",
    "    result = pd.DataFrame([],columns=columns)\n",
    "    for _ in range(n):\n",
    "        new_random_data = []\n",
    "        for col in columns:\n",
    "            new_random_data.append(one_column_random(col))\n",
    "        result.loc[len(result)] = new_random_data\n",
    "    result.to_excel(name+'.xlsx',encoding='utf-8')\n",
    "    print('파일이 생성되었습니다.')\n",
    "\n",
    "#실행\n",
    "random_order_creater(1000)"
   ]
  },
  {
   "cell_type": "code",
   "execution_count": null,
   "metadata": {},
   "outputs": [],
   "source": []
  },
  {
   "cell_type": "markdown",
   "metadata": {},
   "source": [
    "# 개선점 1"
   ]
  },
  {
   "cell_type": "markdown",
   "metadata": {},
   "source": [
    "* 특성들이 너무 독립적임 --> 개별 특성이 갖는 성질들을 고려해주어야함.\n"
   ]
  },
  {
   "cell_type": "markdown",
   "metadata": {},
   "source": [
    "* 플랜트 ---> 플랜트 명\n",
    "* 매장코드 ---> 매장\n",
    "* 상품코드 ---> 상품명"
   ]
  },
  {
   "cell_type": "markdown",
   "metadata": {},
   "source": [
    "## 상관관계 파일 만들기"
   ]
  },
  {
   "cell_type": "code",
   "execution_count": 88,
   "metadata": {},
   "outputs": [
    {
     "data": {
      "text/html": [
       "<div>\n",
       "<style scoped>\n",
       "    .dataframe tbody tr th:only-of-type {\n",
       "        vertical-align: middle;\n",
       "    }\n",
       "\n",
       "    .dataframe tbody tr th {\n",
       "        vertical-align: top;\n",
       "    }\n",
       "\n",
       "    .dataframe thead th {\n",
       "        text-align: right;\n",
       "    }\n",
       "</style>\n",
       "<table border=\"1\" class=\"dataframe\">\n",
       "  <thead>\n",
       "    <tr style=\"text-align: right;\">\n",
       "      <th></th>\n",
       "      <th>No</th>\n",
       "      <th>플랜트</th>\n",
       "      <th>플랜트명</th>\n",
       "      <th>차수</th>\n",
       "      <th>주문일자</th>\n",
       "      <th>매장코드</th>\n",
       "      <th>매장</th>\n",
       "      <th>상품코드</th>\n",
       "      <th>상품명</th>\n",
       "      <th>운송장번호</th>\n",
       "      <th>...</th>\n",
       "      <th>검수수량</th>\n",
       "      <th>출력일시</th>\n",
       "      <th>출력자</th>\n",
       "      <th>몰구분</th>\n",
       "      <th>DAS여부</th>\n",
       "      <th>DAS차수</th>\n",
       "      <th>DAS지시번호</th>\n",
       "      <th>BOXNO</th>\n",
       "      <th>CELLNO</th>\n",
       "      <th>추가박스여부</th>\n",
       "    </tr>\n",
       "  </thead>\n",
       "  <tbody>\n",
       "    <tr>\n",
       "      <th>0</th>\n",
       "      <td>1.0</td>\n",
       "      <td>192</td>\n",
       "      <td>프리덤(0192)</td>\n",
       "      <td>1.0</td>\n",
       "      <td>2022/04/21</td>\n",
       "      <td>0192-1</td>\n",
       "      <td>프리덤 택배출고</td>\n",
       "      <td>802980111116</td>\n",
       "      <td>히말라야 핑크솔트</td>\n",
       "      <td>5.620936e+11</td>\n",
       "      <td>...</td>\n",
       "      <td>1</td>\n",
       "      <td>NaN</td>\n",
       "      <td>NaN</td>\n",
       "      <td>NaN</td>\n",
       "      <td>N</td>\n",
       "      <td>0.0</td>\n",
       "      <td>NaN</td>\n",
       "      <td>NaN</td>\n",
       "      <td>NaN</td>\n",
       "      <td>N</td>\n",
       "    </tr>\n",
       "    <tr>\n",
       "      <th>1</th>\n",
       "      <td>2.0</td>\n",
       "      <td>120</td>\n",
       "      <td>제로투원(0120)</td>\n",
       "      <td>1.0</td>\n",
       "      <td>2022/04/01</td>\n",
       "      <td>0120-1</td>\n",
       "      <td>제로투원 택배출고</td>\n",
       "      <td>6261108117326</td>\n",
       "      <td>샤프란 향신료 20g</td>\n",
       "      <td>5.620932e+11</td>\n",
       "      <td>...</td>\n",
       "      <td>1</td>\n",
       "      <td>NaN</td>\n",
       "      <td>NaN</td>\n",
       "      <td>NaN</td>\n",
       "      <td>N</td>\n",
       "      <td>0.0</td>\n",
       "      <td>NaN</td>\n",
       "      <td>NaN</td>\n",
       "      <td>NaN</td>\n",
       "      <td>N</td>\n",
       "    </tr>\n",
       "    <tr>\n",
       "      <th>2</th>\n",
       "      <td>3.0</td>\n",
       "      <td>176</td>\n",
       "      <td>창고이전-더식스코리아(0176)</td>\n",
       "      <td>1.0</td>\n",
       "      <td>2022/04/01</td>\n",
       "      <td>0176-01</td>\n",
       "      <td>더식스코리아-택배</td>\n",
       "      <td>5285001951833</td>\n",
       "      <td>Elegance Plus Shaving Gel 500ml</td>\n",
       "      <td>5.620932e+11</td>\n",
       "      <td>...</td>\n",
       "      <td>1</td>\n",
       "      <td>NaN</td>\n",
       "      <td>NaN</td>\n",
       "      <td>NaN</td>\n",
       "      <td>N</td>\n",
       "      <td>0.0</td>\n",
       "      <td>NaN</td>\n",
       "      <td>NaN</td>\n",
       "      <td>NaN</td>\n",
       "      <td>N</td>\n",
       "    </tr>\n",
       "    <tr>\n",
       "      <th>3</th>\n",
       "      <td>4.0</td>\n",
       "      <td>106</td>\n",
       "      <td>올댓글로벌(0106)</td>\n",
       "      <td>1.0</td>\n",
       "      <td>2022/04/06</td>\n",
       "      <td>0106-1</td>\n",
       "      <td>올댓글로벌 택배</td>\n",
       "      <td>8000070021341</td>\n",
       "      <td>원두커피: 3. 라바짜 그란에스프레소</td>\n",
       "      <td>5.620933e+11</td>\n",
       "      <td>...</td>\n",
       "      <td>6</td>\n",
       "      <td>NaN</td>\n",
       "      <td>NaN</td>\n",
       "      <td>NaN</td>\n",
       "      <td>N</td>\n",
       "      <td>0.0</td>\n",
       "      <td>NaN</td>\n",
       "      <td>NaN</td>\n",
       "      <td>NaN</td>\n",
       "      <td>N</td>\n",
       "    </tr>\n",
       "    <tr>\n",
       "      <th>4</th>\n",
       "      <td>5.0</td>\n",
       "      <td>203</td>\n",
       "      <td>(주)디앤씨웹툰비즈(0203)</td>\n",
       "      <td>1.0</td>\n",
       "      <td>2022/04/06</td>\n",
       "      <td>0203</td>\n",
       "      <td>디앤씨웹툰비즈-택배</td>\n",
       "      <td>VD-MT-002</td>\n",
       "      <td>악역의 엔딩은 죽음뿐 마스킹 테이프 vol.2</td>\n",
       "      <td>5.620933e+11</td>\n",
       "      <td>...</td>\n",
       "      <td>4</td>\n",
       "      <td>NaN</td>\n",
       "      <td>NaN</td>\n",
       "      <td>NaN</td>\n",
       "      <td>N</td>\n",
       "      <td>0.0</td>\n",
       "      <td>NaN</td>\n",
       "      <td>NaN</td>\n",
       "      <td>NaN</td>\n",
       "      <td>N</td>\n",
       "    </tr>\n",
       "  </tbody>\n",
       "</table>\n",
       "<p>5 rows × 33 columns</p>\n",
       "</div>"
      ],
      "text/plain": [
       "    No  플랜트               플랜트명   차수         주문일자     매장코드          매장  \\\n",
       "0  1.0  192          프리덤(0192)  1.0  2022/04/21    0192-1    프리덤 택배출고   \n",
       "1  2.0  120         제로투원(0120)  1.0  2022/04/01    0120-1   제로투원 택배출고   \n",
       "2  3.0  176  창고이전-더식스코리아(0176)  1.0  2022/04/01   0176-01   더식스코리아-택배   \n",
       "3  4.0  106        올댓글로벌(0106)  1.0  2022/04/06    0106-1    올댓글로벌 택배   \n",
       "4  5.0  203   (주)디앤씨웹툰비즈(0203)  1.0  2022/04/06      0203  디앤씨웹툰비즈-택배   \n",
       "\n",
       "            상품코드                              상품명         운송장번호  ... 검수수량  \\\n",
       "0   802980111116                        히말라야 핑크솔트  5.620936e+11  ...    1   \n",
       "1  6261108117326                      샤프란 향신료 20g  5.620932e+11  ...    1   \n",
       "2  5285001951833  Elegance Plus Shaving Gel 500ml  5.620932e+11  ...    1   \n",
       "3  8000070021341             원두커피: 3. 라바짜 그란에스프레소  5.620933e+11  ...    6   \n",
       "4      VD-MT-002        악역의 엔딩은 죽음뿐 마스킹 테이프 vol.2  5.620933e+11  ...    4   \n",
       "\n",
       "  출력일시  출력자  몰구분  DAS여부  DAS차수  DAS지시번호  BOXNO  CELLNO  추가박스여부  \n",
       "0  NaN  NaN  NaN      N    0.0      NaN    NaN     NaN       N  \n",
       "1  NaN  NaN  NaN      N    0.0      NaN    NaN     NaN       N  \n",
       "2  NaN  NaN  NaN      N    0.0      NaN    NaN     NaN       N  \n",
       "3  NaN  NaN  NaN      N    0.0      NaN    NaN     NaN       N  \n",
       "4  NaN  NaN  NaN      N    0.0      NaN    NaN     NaN       N  \n",
       "\n",
       "[5 rows x 33 columns]"
      ]
     },
     "execution_count": 88,
     "metadata": {},
     "output_type": "execute_result"
    }
   ],
   "source": [
    "data = pd.read_excel(\"C:/Users/oryuk/OneDrive/바탕 화면/202204_출고_주문번호추가.xlsx\", skiprows=[0]) # <---- 각자 적재데이터파일 오픈하면 됩니다. \n",
    "data.head()"
   ]
  },
  {
   "cell_type": "markdown",
   "metadata": {},
   "source": [
    "* 상품명에 이상치 제거 필요"
   ]
  },
  {
   "cell_type": "code",
   "execution_count": 89,
   "metadata": {},
   "outputs": [],
   "source": [
    "data['상품명'] = data['상품명'].replace('\\n','',regex=True)\n",
    "data['상품코드'] = data['상품코드'].replace('\\n','',regex=True)"
   ]
  },
  {
   "cell_type": "markdown",
   "metadata": {},
   "source": [
    "## 상관관계 making 함수 .ver1"
   ]
  },
  {
   "cell_type": "code",
   "execution_count": 90,
   "metadata": {},
   "outputs": [],
   "source": [
    "def make_relation():\n",
    "    one_to_one = []\n",
    "    relation_list =[('플랜트','플랜트명'),('매장코드','매장'),('상품코드','상품명')]\n",
    "    \n",
    "    for key,value in relation_list:\n",
    "        relation = []\n",
    "        for i in range(len(data[key])):\n",
    "            if (data[key][i],data[value][i]) not in relation:\n",
    "                relation.append((data[key][i],data[value][i]))\n",
    "        one_to_one.append(relation)       \n",
    "    return one_to_one"
   ]
  },
  {
   "cell_type": "markdown",
   "metadata": {},
   "source": [
    "## 상관관계 making 함수 .ver2"
   ]
  },
  {
   "cell_type": "markdown",
   "metadata": {},
   "source": [
    "***플랜트 --->플랜트명, 매장코드, 매장 4개의 columns가 다 상관관계를 가진다.***\n",
    "\n",
    "**.ver1의 문제점 : 플랜트 ---> 플랜트명, 매장코드---> 매장 으로 진행하면 어색한 상황이 생김.**\n",
    ">ex) 플랜트: '001', 플랜트명: '롯데(001)' but 매장코드: '002-1', 매장: '신세계 택배'"
   ]
  },
  {
   "cell_type": "code",
   "execution_count": 91,
   "metadata": {},
   "outputs": [
    {
     "name": "stdout",
     "output_type": "stream",
     "text": [
      "파일생성----> relation 1.txt 파일이 생성되었습니다.\n",
      "파일생성----> relation 2.txt 파일이 생성되었습니다.\n"
     ]
    },
    {
     "name": "stderr",
     "output_type": "stream",
     "text": [
      "C:\\Users\\oryuk\\AppData\\Local\\Temp\\ipykernel_17960\\2498707524.py:16: VisibleDeprecationWarning: Creating an ndarray from ragged nested sequences (which is a list-or-tuple of lists-or-tuples-or ndarrays with different lengths or shapes) is deprecated. If you meant to do this, you must specify 'dtype=object' when creating the ndarray.\n",
      "  result = np.array(result)\n"
     ]
    }
   ],
   "source": [
    "dependent_list = [['플랜트','플랜트명','매장코드','매장'],['상품코드','상품명']]\n",
    "#Input : 상관관계 2차원 list\n",
    "#Output : 상관관계 txt파일 생성\n",
    "def make_relation(relation_list):\n",
    "    result = []\n",
    "    for relation in relation_list:\n",
    "        relation_value = []\n",
    "        for i in range(len(data[relation[0]])):\n",
    "            one_to_one = []\n",
    "            for col in relation:\n",
    "                one_to_one.append(data[col][i])\n",
    "            if one_to_one not in relation_value:\n",
    "                relation_value.append(one_to_one)\n",
    "        result.append(relation_value)\n",
    "    \n",
    "    result = np.array(result)\n",
    "    for i in range(len(result)):\n",
    "        np.savetxt('relation '+ str(i+1) + '.txt',result[i], fmt='%s',delimiter='|')\n",
    "        print(f'파일생성----> relation {i+1}.txt 파일이 생성되었습니다.')\n",
    "        \n",
    "#실행\n",
    "make_relation(dependent_list)"
   ]
  },
  {
   "cell_type": "markdown",
   "metadata": {},
   "source": [
    "## `상관관계 함수 .ver2`를 이용하여 `주문 내역 생성 함수` 수정하기."
   ]
  },
  {
   "cell_type": "markdown",
   "metadata": {},
   "source": [
    "> `주의사항` 구현의 편의를 위하여, 적재데이터의 columns의 순서가 바뀌었음. (dependent한 특성들 + independent한 특성)\n",
    ">> 아래코드 참고!!"
   ]
  },
  {
   "cell_type": "code",
   "execution_count": 94,
   "metadata": {},
   "outputs": [],
   "source": [
    "columns=['플랜트', '플랜트명', '매장코드', '매장', '상품코드', '상품명', '차수', '주문일자','운송장번호',\n",
    "       '운송장출력여부', '주문취소여부', '주문번호', '받는이', '우편번호', '주소1', '주소2', '전화번호1',\n",
    "       '전화번호2', '배송기재사항', '판매가', '합포여부', '예정수량', '검수수량', '출력일시', '출력자', '몰구분',\n",
    "       'DAS여부', 'DAS차수', 'DAS지시번호', 'BOXNO', 'CELLNO', '추가박스여부']\n",
    "\n",
    "random_columns = ['차수','주문일자','운송장번호','운송장출력여부','주문취소여부','주문번호','받는이','우편번호','주소1','주소2','전화번호1','전화번호2',\n",
    "                  '배송기재사항','판매가', '합포여부', '예정수량', '검수수량', '출력일시', '출력자', '몰구분','DAS여부', 'DAS차수', 'DAS지시번호', 'BOXNO', 'CELLNO', '추가박스여부']\n",
    "dependent_columns = ['플랜트','상품코드']"
   ]
  },
  {
   "cell_type": "code",
   "execution_count": 95,
   "metadata": {},
   "outputs": [],
   "source": [
    "Dependent_set = {}\n",
    "for i in range(len(dependent_list)):                       # 확장성 고려하여 다음과 같이 표현.\n",
    "    f = np.loadtxt('C:/Users/oryuk/OneDrive/바탕 화면/ffm-logistics-planning/relation '+ str(i+1) + '.txt', delimiter='|',dtype = 'str')\n",
    "    Dependent_set[dependent_list[i][0]] = f\n",
    "    \n",
    "def one_column_random2(name):\n",
    "    return random.choice(Dependent_set[name])\n",
    "\n",
    "# result=[]\n",
    "# for i in one_column_random2('플랜트'):\n",
    "#     result.append(i)"
   ]
  },
  {
   "cell_type": "code",
   "execution_count": 96,
   "metadata": {},
   "outputs": [
    {
     "name": "stdout",
     "output_type": "stream",
     "text": [
      "파일이 생성되었습니다.\n"
     ]
    }
   ],
   "source": [
    "#샘플데이터 받아서 딕셔너리 자료형으로 변환 특성 종류 : 특성 value\n",
    "Sample_set = {}\n",
    "for col in columns:\n",
    "    f = open('C:/geunskoo-github-blog/ffm-logistics-planning/CODE/Sample/' + col,'r',encoding ='utf-8')     #안호성이 만든 CODE/Sample/         각자의 저장 주소 참고하세요!\n",
    "    data = f.read()[:-1].split('|')\n",
    "    Sample_set[col] = data\n",
    "\n",
    "#input - 특성 종류\n",
    "#output - 랜덤 특성 value\n",
    "def one_column_random(name):\n",
    "    return random.choice(Sample_set[name])\n",
    "\n",
    "#input - 주문 수, \"excel파일 이름\"\n",
    "#output - excel 파일 생성\n",
    "def random_order_creater(n, name = 'Random_Sampe'):\n",
    "    result = pd.DataFrame([],columns=columns)\n",
    "    for _ in range(n):\n",
    "        new_random_data = []\n",
    "        for col in dependent_columns:\n",
    "            for i in one_column_random2(col):\n",
    "                new_random_data.append(i)\n",
    "                \n",
    "        for col in random_columns:\n",
    "            new_random_data.append(one_column_random(col))\n",
    "        result.loc[len(result)] = new_random_data\n",
    "    result.to_excel(name+'.xlsx',encoding='utf-8')\n",
    "    print('파일이 생성되었습니다.')\n",
    "\n",
    "#실행\n",
    "random_order_creater(1000,'주문 내역 생성(특성 연결)')"
   ]
  },
  {
   "cell_type": "code",
   "execution_count": null,
   "metadata": {},
   "outputs": [],
   "source": []
  }
 ],
 "metadata": {
  "kernelspec": {
   "display_name": "Python 3.10.2 64-bit",
   "language": "python",
   "name": "python3"
  },
  "language_info": {
   "codemirror_mode": {
    "name": "ipython",
    "version": 3
   },
   "file_extension": ".py",
   "mimetype": "text/x-python",
   "name": "python",
   "nbconvert_exporter": "python",
   "pygments_lexer": "ipython3",
   "version": "3.10.2"
  },
  "orig_nbformat": 4,
  "vscode": {
   "interpreter": {
    "hash": "de7ecca2df3caa1a9c05483a35856dc29a31fa66d5c68d64cc7656be4664b7f9"
   }
  }
 },
 "nbformat": 4,
 "nbformat_minor": 2
}
