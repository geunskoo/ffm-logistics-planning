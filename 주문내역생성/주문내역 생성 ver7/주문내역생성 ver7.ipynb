{
 "cells": [
  {
   "cell_type": "markdown",
   "metadata": {},
   "source": [
    "# 주문 내역 생성\n",
    "`Class ORDER`"
   ]
  },
  {
   "cell_type": "markdown",
   "metadata": {},
   "source": [
    "## 1. Source data\n",
    "* smaple data 생성하는 함수들 모두 여기에 정리."
   ]
  },
  {
   "cell_type": "code",
   "execution_count": 3,
   "metadata": {},
   "outputs": [],
   "source": [
    "# 현재 smaple에 source 데이터들만 잘 존재하고 있다면 class ORER 정상작동. \n",
    "\n",
    "#Sample(file) --> dictionary\n",
    "#indepedent Columns의 source data   --> columns     --- 1차원 list  저장\n",
    "#dependent Columns의 source data    --> columns대표 --- 2차원 numpy 저장\n",
    "\n",
    "# 아직 진행중...."
   ]
  },
  {
   "cell_type": "markdown",
   "metadata": {},
   "source": [
    "## 2. making class ORDER\n",
    "* 모든 source 데이터는 적재데이터에 의존함."
   ]
  },
  {
   "cell_type": "code",
   "execution_count": 1,
   "metadata": {},
   "outputs": [],
   "source": [
    "import pandas as pd\n",
    "import numpy as np\n",
    "import string\n",
    "import openpyxl\n",
    "import random\n",
    "import matplotlib.pyplot as plt\n",
    "\n",
    "class ORDER:\n",
    "    #멤버 변수.\n",
    "    columns=['플랜트', '플랜트명', '매장코드', '매장', '상품코드', '상품명', '차수', '주문일자','운송장번호',\n",
    "            '운송장출력여부', '주문취소여부', '주문번호', '받는이', '우편번호', '주소1', '주소2', '전화번호1',\n",
    "            '전화번호2', '배송기재사항', '판매가', '합포여부', '예정수량', '검수수량', '출력일시', '출력자', '몰구분',\n",
    "            'DAS여부', 'DAS차수', 'DAS지시번호', 'BOXNO', 'CELLNO', '추가박스여부']\n",
    "    random_columns = ['차수','주문일자','운송장번호','운송장출력여부','주문취소여부','주문번호','받는이','우편번호',\n",
    "                    '주소1','주소2','전화번호1','전화번호2','배송기재사항','판매가', '합포여부', '예정수량', '검수수량',\n",
    "                    '출력일시', '출력자', '몰구분','DAS여부', 'DAS차수', 'DAS지시번호', 'BOXNO', 'CELLNO', '추가박스여부']\n",
    "    dependent_list = [['플랜트','플랜트명','매장코드','매장'],['상품코드','상품명']]\n",
    "    dependent_columns = ['플랜트','상품코드']\n",
    "    \n",
    "    #Smple/ 에서 source들 dictionary로 정리.(independent)\n",
    "    Sample_set = {}\n",
    "    for col in columns :\n",
    "        try :\n",
    "            f = open('Sample/'+col,'r',encoding = 'utf-8')                                          #Url 세팅\n",
    "        except :\n",
    "            f = open('Sample/'+col,'r',encoding = 'cp949')\n",
    "        data = f.read()[:-1].split('|')\n",
    "        Sample_set[col] = data\n",
    "\n",
    "    #Smple/ 에서 source들 dictionary로 정리.(dependent)\n",
    "    Dependent_set = {}\n",
    "    for i in range(len(dependent_list)):              \n",
    "        f = np.loadtxt('Sample/relation '+ str(i+1), delimiter='|',dtype = 'str')                   #Url 세팅\n",
    "        Dependent_set[dependent_list[i][0]] = f\n",
    "\n",
    "    order = pd.DataFrame([],columns=columns)\n",
    "    row = 1000\n",
    "    name = '주문 내역'\n",
    "    \n",
    "    #멤버 함수.\n",
    "    def __init__(self,row = 1000):                                                                  #생성자.\n",
    "        self.row = row                                                                              #INPUT  - (int) 주문 수, (int) 포아송 분포 변수\n",
    "        for _ in range(row):                                                                        #ACTION - 주문 수 만큼 주문내역을 생성함.\n",
    "            new_random_data = []                                                                    #OUTPUT  - none.\n",
    "            for col in self.dependent_columns:\n",
    "                for i in self.__one_column_random2(col):\n",
    "                    new_random_data.append(i)\n",
    "                    \n",
    "            for col in self.random_columns:\n",
    "                new_random_data.append(self.__one_column_random(col))\n",
    "            self.order.loc[len(self.order)] = new_random_data\n",
    "    \n",
    "    \n",
    "    def __one_column_random(self,name) :                                                            #independent dict에서 choice하는 함수.(private)\n",
    "        if name == '주문취소여부' or name == '추가박스여부' :                                         #INPUT      - (str) column\n",
    "            return random.choices(['Y', 'N'], weights = (5, 95))[0]                                 #OUTPUT     - (str) 포아송 함수로 chice 되어진 value\n",
    "        elif name == '운송장출력여부':\n",
    "            return random.choices(['Y', 'N'], weights = (95, 5))[0]\n",
    "        else:\n",
    "            rand_pois = np.random.poisson(lam=10, size=len(self.Sample_set[name]))\n",
    "            return random.choices(self.Sample_set[name], weights = rand_pois)[0]\n",
    "    \n",
    "    \n",
    "    def __one_column_random2(self,name):                                                            #dependent dict에서 choice하는 함수.(private)\n",
    "        rand_pois = np.random.poisson(lam=10, size=len(self.Dependent_set[name]))                   #INPUT      - (str) column.\n",
    "        return random.choices(self.Dependent_set[name], weights = rand_pois)[0]                     #OUTPUT     - (str) 포아송 함수로 chice 되어진 value.\n",
    "    \n",
    "    \n",
    "    def show(self):                                                                                 #주문 내역 출력함수.\n",
    "        return self.order                                                                           #INPUT      - none.\n",
    "                                                                                                    #OUTPUT     - (판다스 DataFrame) 주문내역.\n",
    "    \n",
    "    \n",
    "    def to_excel(self,name = '주문 내역'):                                                          #주문 내역 excel 변환 함수.\n",
    "        self.name = name                                                                            #INPUT      - (str) excel 이름.\n",
    "        self.order.to_excel(self.name+'.xlsx', encoding='utf-8')                                    #OUTPUT     - (.xlsx) excel 파일.\n",
    "        print(f'주문 내역 파일 --- {self.name}.xlsx 이(가) 생성 되었습니다.')\n",
    "        \n"
   ]
  },
  {
   "cell_type": "markdown",
   "metadata": {},
   "source": [
    "## 3.사용 예시\n",
    "\n",
    "* A = ORDER() <----------------------- 주문 1000개 생성\n",
    "* B = ORDER(200) <-------------------- 주문 200개 생성\n",
    "\n",
    "* A.show() <-------------------------- Pandas 파일 생성\n",
    "\n",
    "* A.to_excel() <---------------------- instance A의 excel파일 생성 (파일명 = 주문내역.xlsx)\n",
    "* B.to_excel('여기가 파일명') <-------  instance B의 excel파일 생성 (파일명 = 여기가 파일명.xlsx)"
   ]
  },
  {
   "cell_type": "code",
   "execution_count": 4,
   "metadata": {},
   "outputs": [
    {
     "name": "stdout",
     "output_type": "stream",
     "text": [
      "주문 내역 파일 --- 주문 내역.xlsx 이(가) 생성 되었습니다.\n",
      "주문 내역 파일 --- n월 주문 내역.xlsx 이(가) 생성 되었습니다.\n"
     ]
    }
   ],
   "source": [
    "A = ORDER()\n",
    "B = ORDER(200)\n",
    " \n",
    "A.to_excel()\n",
    "B.to_excel('n월 주문 내역')"
   ]
  }
 ],
 "metadata": {
  "kernelspec": {
   "display_name": "Python 3.10.2 64-bit",
   "language": "python",
   "name": "python3"
  },
  "language_info": {
   "codemirror_mode": {
    "name": "ipython",
    "version": 3
   },
   "file_extension": ".py",
   "mimetype": "text/x-python",
   "name": "python",
   "nbconvert_exporter": "python",
   "pygments_lexer": "ipython3",
   "version": "3.10.2"
  },
  "vscode": {
   "interpreter": {
    "hash": "de7ecca2df3caa1a9c05483a35856dc29a31fa66d5c68d64cc7656be4664b7f9"
   }
  }
 },
 "nbformat": 4,
 "nbformat_minor": 2
}
